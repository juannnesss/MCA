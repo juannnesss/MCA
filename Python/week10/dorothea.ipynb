{
 "cells": [
  {
   "cell_type": "code",
   "execution_count": 1,
   "metadata": {
    "collapsed": true
   },
   "outputs": [],
   "source": [
    "from sklearn import datasets\n",
    "import matplotlib.pyplot as plt\n",
    "import numpy as np\n",
    "%matplotlib inline"
   ]
  },
  {
   "cell_type": "code",
   "execution_count": 8,
   "metadata": {
    "collapsed": false
   },
   "outputs": [],
   "source": [
    "filename = 'dorothea_train.data'\n",
    "filein = open(filename, 'r')\n",
    "filelines = filein.readlines()\n",
    "filein.close()\n",
    "\n",
    "n_elements = len(filelines)\n",
    "n_features = 100000\n",
    "\n",
    "data = np.zeros((n_elements, n_features))\n",
    "\n",
    "for i in range(n_elements):\n",
    "    nums = filelines[i].split()\n",
    "    for n in nums:\n",
    "        j = int(n) - 1\n",
    "        data[i,j] = 1"
   ]
  }
 ],
 "metadata": {
  "kernelspec": {
   "display_name": "Python 2",
   "language": "python",
   "name": "python2"
  },
  "language_info": {
   "codemirror_mode": {
    "name": "ipython",
    "version": 2
   },
   "file_extension": ".py",
   "mimetype": "text/x-python",
   "name": "python",
   "nbconvert_exporter": "python",
   "pygments_lexer": "ipython2",
   "version": "2.7.11"
  }
 },
 "nbformat": 4,
 "nbformat_minor": 0
}
