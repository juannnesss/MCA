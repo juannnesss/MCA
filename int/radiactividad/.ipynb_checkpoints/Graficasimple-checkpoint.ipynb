{
 "cells": [
  {
   "cell_type": "code",
   "execution_count": 13,
   "metadata": {
    "collapsed": true
   },
   "outputs": [],
   "source": [
    "import math\n",
    "import matplotlib.pyplot as plt\n",
    "import numpy as np\n",
    "from matplotlib.pylab import hist,show\n",
    "%matplotlib inline"
   ]
  },
  {
   "cell_type": "code",
   "execution_count": 21,
   "metadata": {
    "collapsed": false
   },
   "outputs": [
    {
     "ename": "ValueError",
     "evalue": "invalid literal for float(): 66\\\\",
     "output_type": "error",
     "traceback": [
      "\u001b[0;31m---------------------------------------------------------------------------\u001b[0m",
      "\u001b[0;31mValueError\u001b[0m                                Traceback (most recent call last)",
      "\u001b[0;32m<ipython-input-21-a29952500a90>\u001b[0m in \u001b[0;36m<module>\u001b[0;34m()\u001b[0m\n\u001b[0;32m----> 1\u001b[0;31m \u001b[0mdatos\u001b[0m\u001b[0;34m=\u001b[0m\u001b[0mnp\u001b[0m\u001b[0;34m.\u001b[0m\u001b[0mloadtxt\u001b[0m\u001b[0;34m(\u001b[0m\u001b[0;34m'inca.dat'\u001b[0m\u001b[0;34m,\u001b[0m\u001b[0mdelimiter\u001b[0m\u001b[0;34m=\u001b[0m\u001b[0;34m'&'\u001b[0m\u001b[0;34m)\u001b[0m\u001b[0;34m\u001b[0m\u001b[0m\n\u001b[0m\u001b[1;32m      2\u001b[0m \u001b[0mX\u001b[0m\u001b[0;34m=\u001b[0m\u001b[0mdatos\u001b[0m\u001b[0;34m[\u001b[0m\u001b[0;34m:\u001b[0m\u001b[0;34m,\u001b[0m\u001b[0;36m1\u001b[0m\u001b[0;34m]\u001b[0m\u001b[0;34m\u001b[0m\u001b[0m\n\u001b[1;32m      3\u001b[0m \u001b[0mY\u001b[0m\u001b[0;34m=\u001b[0m\u001b[0mdatos\u001b[0m\u001b[0;34m[\u001b[0m\u001b[0;34m:\u001b[0m\u001b[0;34m,\u001b[0m\u001b[0;36m3\u001b[0m\u001b[0;34m]\u001b[0m\u001b[0;34m\u001b[0m\u001b[0m\n\u001b[1;32m      4\u001b[0m \u001b[0mx\u001b[0m\u001b[0;34m=\u001b[0m\u001b[0mnp\u001b[0m\u001b[0;34m.\u001b[0m\u001b[0mappend\u001b[0m\u001b[0;34m(\u001b[0m\u001b[0mX\u001b[0m\u001b[0;34m,\u001b[0m\u001b[0mY\u001b[0m\u001b[0;34m)\u001b[0m\u001b[0;34m\u001b[0m\u001b[0m\n\u001b[1;32m      5\u001b[0m \u001b[0mpro\u001b[0m\u001b[0;34m=\u001b[0m\u001b[0mnp\u001b[0m\u001b[0;34m.\u001b[0m\u001b[0mmean\u001b[0m\u001b[0;34m(\u001b[0m\u001b[0mx\u001b[0m\u001b[0;34m)\u001b[0m\u001b[0;34m\u001b[0m\u001b[0m\n",
      "\u001b[0;32m/Users/juanvargas/anaconda/lib/python2.7/site-packages/numpy/lib/npyio.pyc\u001b[0m in \u001b[0;36mloadtxt\u001b[0;34m(fname, dtype, comments, delimiter, converters, skiprows, usecols, unpack, ndmin)\u001b[0m\n\u001b[1;32m    858\u001b[0m \u001b[0;34m\u001b[0m\u001b[0m\n\u001b[1;32m    859\u001b[0m             \u001b[0;31m# Convert each value according to its column and store\u001b[0m\u001b[0;34m\u001b[0m\u001b[0;34m\u001b[0m\u001b[0m\n\u001b[0;32m--> 860\u001b[0;31m             \u001b[0mitems\u001b[0m \u001b[0;34m=\u001b[0m \u001b[0;34m[\u001b[0m\u001b[0mconv\u001b[0m\u001b[0;34m(\u001b[0m\u001b[0mval\u001b[0m\u001b[0;34m)\u001b[0m \u001b[0;32mfor\u001b[0m \u001b[0;34m(\u001b[0m\u001b[0mconv\u001b[0m\u001b[0;34m,\u001b[0m \u001b[0mval\u001b[0m\u001b[0;34m)\u001b[0m \u001b[0;32min\u001b[0m \u001b[0mzip\u001b[0m\u001b[0;34m(\u001b[0m\u001b[0mconverters\u001b[0m\u001b[0;34m,\u001b[0m \u001b[0mvals\u001b[0m\u001b[0;34m)\u001b[0m\u001b[0;34m]\u001b[0m\u001b[0;34m\u001b[0m\u001b[0m\n\u001b[0m\u001b[1;32m    861\u001b[0m             \u001b[0;31m# Then pack it according to the dtype's nesting\u001b[0m\u001b[0;34m\u001b[0m\u001b[0;34m\u001b[0m\u001b[0m\n\u001b[1;32m    862\u001b[0m             \u001b[0mitems\u001b[0m \u001b[0;34m=\u001b[0m \u001b[0mpack_items\u001b[0m\u001b[0;34m(\u001b[0m\u001b[0mitems\u001b[0m\u001b[0;34m,\u001b[0m \u001b[0mpacking\u001b[0m\u001b[0;34m)\u001b[0m\u001b[0;34m\u001b[0m\u001b[0m\n",
      "\u001b[0;31mValueError\u001b[0m: invalid literal for float(): 66\\\\"
     ]
    }
   ],
   "source": [
    "datos=np.loadtxt('inca.dat',delimiter='&')\n",
    "X=datos[:,1]\n",
    "Y=datos[:,3]\n",
    "x=np.append(X,Y)\n",
    "pro=np.mean(x)\n",
    "print(pro)"
   ]
  },
  {
   "cell_type": "code",
   "execution_count": 44,
   "metadata": {
    "collapsed": false
   },
   "outputs": [
    {
     "name": "stdout",
     "output_type": "stream",
     "text": [
      "[  0.00000000e+000   1.00000000e+000   1.00000000e+000   2.00000000e+000\n",
      "   6.00000000e+000   2.40000000e+001   1.20000000e+002   7.20000000e+002\n",
      "   5.04000000e+003   4.03200000e+004   3.62880000e+005   3.62880000e+006\n",
      "   3.99168000e+007   4.79001600e+008   6.22702080e+009   8.71782912e+010\n",
      "   1.30767437e+012   2.09227899e+013   3.55687428e+014   6.40237371e+015\n",
      "   1.21645100e+017   2.43290201e+018   5.10909422e+019   1.12400073e+021\n",
      "   2.58520167e+022   6.20448402e+023   1.55112100e+025   4.03291461e+026\n",
      "   1.08888695e+028   3.04888345e+029   8.84176199e+030   2.65252860e+032\n",
      "   8.22283865e+033   2.63130837e+035   8.68331762e+036   2.95232799e+038\n",
      "   1.03331480e+040   3.71993327e+041   1.37637531e+043   5.23022617e+044\n",
      "   2.03978821e+046   8.15915283e+047   3.34525266e+049   1.40500612e+051\n",
      "   6.04152631e+052   2.65827157e+054   1.19622221e+056   5.50262216e+057\n",
      "   2.58623242e+059   1.24139156e+061   6.08281864e+062   3.04140932e+064\n",
      "   1.55111875e+066   8.06581752e+067   4.27488328e+069   2.30843697e+071\n",
      "   1.26964034e+073   7.10998588e+074   4.05269195e+076   2.35056133e+078\n",
      "   1.38683119e+080   8.32098711e+081   5.07580214e+083   3.14699733e+085\n",
      "   1.98260832e+087   1.26886932e+089   8.24765059e+090   5.44344939e+092\n",
      "   3.64711109e+094   2.48003554e+096   1.71122452e+098   1.19785717e+100\n",
      "   8.50478589e+101   6.12344584e+103   4.47011546e+105   3.30788544e+107\n",
      "   2.48091408e+109   1.88549470e+111   1.45183092e+113   1.13242812e+115\n",
      "   8.94618213e+116   7.15694570e+118   5.79712602e+120   4.75364334e+122\n",
      "   3.94552397e+124   3.31424013e+126   2.81710411e+128   2.42270954e+130\n",
      "   2.10775730e+132   1.85482642e+134   1.65079552e+136   1.48571596e+138\n",
      "   1.35200153e+140   1.24384141e+142   1.15677251e+144   1.08736616e+146\n",
      "   1.03299785e+148   9.91677935e+149   9.61927597e+151   9.42689045e+153\n",
      "   9.33262154e+155]\n"
     ]
    }
   ],
   "source": [
    "print(y2)"
   ]
  },
  {
   "cell_type": "code",
   "execution_count": 42,
   "metadata": {
    "collapsed": false
   },
   "outputs": [
    {
     "data": {
      "image/png": "[encoded data removed]",
      "text/plain": [
       "<matplotlib.figure.Figure at 0x10609aa90>"
      ]
     },
     "metadata": {},
     "output_type": "display_data"
    }
   ],
   "source": [
    "plt.figure() # Create and empty figure\n",
    "#plt.scatter(x,y1,color=\"k\") # One \n",
    "plt.scatter(x,y2)\n",
    "plt.xlabel(\"Distancia R (cm)\") # Para cambiar el rótulo del eje x\n",
    "plt.ylabel(\"Intensidad Relativa (mA)\") # Para cambiar el rótulo del eje y\n",
    "plt.savefig(\"exp.png\") # Para guardar en disco la gráfica resultante\n",
    "plt.show()"
   ]
  },
  {
   "cell_type": "code",
   "execution_count": null,
   "metadata": {
    "collapsed": true
   },
   "outputs": [],
   "source": [
    "x2=[-30,-25,-20,-15,-10,-5,0,5,10,15,20,25,30]\n",
    "y2=[-1.249,-1.015,-0.851,-0.64,-0.443,-0.245,-0.023,0.214,0.325,0.542,0.760,0.930,1.151]"
   ]
  },
  {
   "cell_type": "code",
   "execution_count": null,
   "metadata": {
    "collapsed": true
   },
   "outputs": [],
   "source": [
    "plt.figure() # Create and empty figure\n",
    "plt.scatter(x2,y2,color=\"k\") # One plot\n",
    "plt.xlabel(\"Distancia R (cm)\") # Para cambiar el rótulo del eje x\n",
    "plt.ylabel(\"Intensidad Relativa (mA)\") # Para cambiar el rótulo del eje y\n",
    "plt.savefig(\"exp.png\") # Para guardar en disco la gráfica resultante\n",
    "plt.show()"
   ]
  },
  {
   "cell_type": "code",
   "execution_count": 13,
   "metadata": {
    "collapsed": false
   },
   "outputs": [
    {
     "name": "stdout",
     "output_type": "stream",
     "text": [
      "13\n",
      "13\n"
     ]
    }
   ],
   "source": [
    "x1=[-30,-25,-20,-15,-10,-5,0,5,10,15,20,25,30]\n",
    "y1=[-1.721,-1.5,-1.175,-0.878,-0.679,-0.375,-0.149,0.234,0.438,0.762,1.034,1.299,1.630]\n",
    "print(len (x1))\n",
    "print(len(y1))"
   ]
  },
  {
   "cell_type": "code",
   "execution_count": 15,
   "metadata": {
    "collapsed": false
   },
   "outputs": [
    {
     "data": {
      "image/png": "[encoded data removed]",
      "text/plain": [
       "<matplotlib.figure.Figure at 0x105932b10>"
      ]
     },
     "metadata": {},
     "output_type": "display_data"
    }
   ],
   "source": [
    "plt.figure() # Create and empty figure\n",
    "plt.scatter(x1,y1,color=\"k\") # One plot\n",
    "plt.xlabel(\"Distancia R (cm)\") # Para cambiar el rótulo del eje x\n",
    "plt.ylabel(\"Intensidad Relativa (mA)\") # Para cambiar el rótulo del eje y\n",
    "plt.savefig(\"exp.png\") # Para guardar en disco la gráfica resultante\n",
    "plt.show()"
   ]
  },
  {
   "cell_type": "code",
   "execution_count": null,
   "metadata": {
    "collapsed": true
   },
   "outputs": [],
   "source": []
  }
 ],
 "metadata": {
  "kernelspec": {
   "display_name": "Python 2",
   "language": "python",
   "name": "python2"
  },
  "language_info": {
   "codemirror_mode": {
    "name": "ipython",
    "version": 2
   },
   "file_extension": ".py",
   "mimetype": "text/x-python",
   "name": "python",
   "nbconvert_exporter": "python",
   "pygments_lexer": "ipython2",
   "version": "2.7.11"
  }
 },
 "nbformat": 4,
 "nbformat_minor": 0
}
