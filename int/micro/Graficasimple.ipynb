{
 "cells": [
  {
   "cell_type": "code",
   "execution_count": 1,
   "metadata": {
    "collapsed": true
   },
   "outputs": [],
   "source": [
    "import matplotlib.pyplot as plt\n",
    "%matplotlib inline"
   ]
  },
  {
   "cell_type": "code",
   "execution_count": 5,
   "metadata": {
    "collapsed": false
   },
   "outputs": [],
   "source": [
    "x=[-30,-25,-20,-15,-10,-5,0,5,10,15,20,25,30]\n",
    "y=[-1.249,-1.015,-0.851,-0.64,-0.443,-0.245,-0.023,0.214,0.325,0.542,0.760,0.930,1.151]"
   ]
  },
  {
   "cell_type": "code",
   "execution_count": 6,
   "metadata": {
    "collapsed": false
   },
   "outputs": [
    {
     "name": "stdout",
     "output_type": "stream",
     "text": [
      "13\n",
      "13\n"
     ]
    }
   ],
   "source": [
    "print(len (x))\n",
    "print(len(y))"
   ]
  },
  {
   "cell_type": "code",
   "execution_count": 7,
   "metadata": {
    "collapsed": false
   },
   "outputs": [
    {
     "data": {
      "image/png": "[encoded data removed]",
      "text/plain": [
       "<matplotlib.figure.Figure at 0x10579e650>"
      ]
     },
     "metadata": {},
     "output_type": "display_data"
    }
   ],
   "source": [
    "plt.figure() # Create and empty figure\n",
    "plt.scatter(x,y,color=\"k\") # One plot\n",
    "plt.xlabel(\"Distancia R (cm)\") # Para cambiar el rótulo del eje x\n",
    "plt.ylabel(\"Intensidad Relativa (mA)\") # Para cambiar el rótulo del eje y\n",
    "plt.savefig(\"exp.png\") # Para guardar en disco la gráfica resultante\n",
    "plt.show()"
   ]
  },
  {
   "cell_type": "code",
   "execution_count": null,
   "metadata": {
    "collapsed": true
   },
   "outputs": [],
   "source": [
    "x2=[-30,-25,-20,-15,-10,-5,0,5,10,15,20,25,30]\n",
    "y2=[-1.249,-1.015,-0.851,-0.64,-0.443,-0.245,-0.023,0.214,0.325,0.542,0.760,0.930,1.151]"
   ]
  },
  {
   "cell_type": "code",
   "execution_count": null,
   "metadata": {
    "collapsed": true
   },
   "outputs": [],
   "source": [
    "plt.figure() # Create and empty figure\n",
    "plt.scatter(x2,y2,color=\"k\") # One plot\n",
    "plt.xlabel(\"Distancia R (cm)\") # Para cambiar el rótulo del eje x\n",
    "plt.ylabel(\"Intensidad Relativa (mA)\") # Para cambiar el rótulo del eje y\n",
    "plt.savefig(\"exp.png\") # Para guardar en disco la gráfica resultante\n",
    "plt.show()"
   ]
  },
  {
   "cell_type": "code",
   "execution_count": 13,
   "metadata": {
    "collapsed": false
   },
   "outputs": [
    {
     "name": "stdout",
     "output_type": "stream",
     "text": [
      "13\n",
      "13\n"
     ]
    }
   ],
   "source": [
    "x1=[-30,-25,-20,-15,-10,-5,0,5,10,15,20,25,30]\n",
    "y1=[-1.721,-1.5,-1.175,-0.878,-0.679,-0.375,-0.149,0.234,0.438,0.762,1.034,1.299,1.630]\n",
    "print(len (x1))\n",
    "print(len(y1))"
   ]
  },
  {
   "cell_type": "code",
   "execution_count": 15,
   "metadata": {
    "collapsed": false
   },
   "outputs": [
    {
     "data": {
      "image/png": "[encoded data removed]",
      "text/plain": [
       "<matplotlib.figure.Figure at 0x105932b10>"
      ]
     },
     "metadata": {},
     "output_type": "display_data"
    }
   ],
   "source": [
    "plt.figure() # Create and empty figure\n",
    "plt.scatter(x1,y1,color=\"k\") # One plot\n",
    "plt.xlabel(\"Distancia R (cm)\") # Para cambiar el rótulo del eje x\n",
    "plt.ylabel(\"Intensidad Relativa (mA)\") # Para cambiar el rótulo del eje y\n",
    "plt.savefig(\"exp.png\") # Para guardar en disco la gráfica resultante\n",
    "plt.show()"
   ]
  },
  {
   "cell_type": "code",
   "execution_count": null,
   "metadata": {
    "collapsed": true
   },
   "outputs": [],
   "source": []
  }
 ],
 "metadata": {
  "kernelspec": {
   "display_name": "Python 2",
   "language": "python",
   "name": "python2"
  },
  "language_info": {
   "codemirror_mode": {
    "name": "ipython",
    "version": 2
   },
   "file_extension": ".py",
   "mimetype": "text/x-python",
   "name": "python",
   "nbconvert_exporter": "python",
   "pygments_lexer": "ipython2",
   "version": "2.7.11"
  }
 },
 "nbformat": 4,
 "nbformat_minor": 0
}
