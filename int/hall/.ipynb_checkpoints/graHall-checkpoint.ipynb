{
 "cells": [
  {
   "cell_type": "code",
   "execution_count": 1,
   "metadata": {
    "collapsed": true
   },
   "outputs": [],
   "source": [
    "import math\n",
    "import matplotlib.pyplot as plt\n",
    "import numpy as np\n",
    "%matplotlib inline"
   ]
  },
  {
   "cell_type": "code",
   "execution_count": 15,
   "metadata": {
    "collapsed": false
   },
   "outputs": [
    {
     "data": {
      "text/plain": [
       "<matplotlib.collections.PathCollection at 0x106227d50>"
      ]
     },
     "execution_count": 15,
     "metadata": {},
     "output_type": "execute_result"
    },
    {
     "data": {
      "image/png": "[encoded data removed]",
      "text/plain": [
       "<matplotlib.figure.Figure at 0x105e23a90>"
      ]
     },
     "metadata": {},
     "output_type": "display_data"
    }
   ],
   "source": [
    "datos=np.loadtxt('1n.dat',delimiter='&')\n",
    "X=datos[:,0]\n",
    "Y=datos[:,1]\n",
    "plt.figure()\n",
    "plt.xlabel('Corriente $\\pm$ 0.1 (mA)')\n",
    "plt.ylabel('Voltaje $\\pm$ 0.01 (V)')\n",
    "\n",
    "plt.scatter(X,Y)\n",
    "plt.save"
   ]
  },
  {
   "cell_type": "code",
   "execution_count": null,
   "metadata": {
    "collapsed": true
   },
   "outputs": [],
   "source": [
    "datos=np.loadtxt('2n.dat',delimiter='&')\n",
    "X=datos[:,0]\n",
    "Y=datos[:,1]\n",
    "plt.figure()\n",
    "plt.xlabel('Corriente $\\pm$ 0.1 (mA)')\n",
    "plt.ylabel('Voltaje $\\pm$ 0.01 (V)')\n",
    "plt.scatter(X,Y)"
   ]
  }
 ],
 "metadata": {
  "kernelspec": {
   "display_name": "Python 2",
   "language": "python",
   "name": "python2"
  },
  "language_info": {
   "codemirror_mode": {
    "name": "ipython",
    "version": 2
   },
   "file_extension": ".py",
   "mimetype": "text/x-python",
   "name": "python",
   "nbconvert_exporter": "python",
   "pygments_lexer": "ipython2",
   "version": "2.7.11"
  }
 },
 "nbformat": 4,
 "nbformat_minor": 0
}
