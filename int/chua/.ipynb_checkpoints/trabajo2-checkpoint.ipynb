{
 "cells": [
  {
   "cell_type": "code",
   "execution_count": 1,
   "metadata": {
    "collapsed": false
   },
   "outputs": [
    {
     "name": "stdout",
     "output_type": "stream",
     "text": [
      "Populating the interactive namespace from numpy and matplotlib\n"
     ]
    }
   ],
   "source": [
    "%pylab inline\n",
    "from numpy import vectorize"
   ]
  },
  {
   "cell_type": "code",
   "execution_count": 3,
   "metadata": {
    "collapsed": true
   },
   "outputs": [],
   "source": [
    "def funci(n,s):\n",
    "    dt = s\n",
    "    nsteps = n\n",
    "    # Condiciones iniciales\n",
    "    v10 = 1.1\n",
    "    v20 = 0\n",
    "    i00 = 0\n",
    "    # Guarda el estado \n",
    "    arr = []\n",
    "    for i in range(nsteps):\n",
    "        # Guarda el avance\n",
    "        arr.append([v10,v20,i00])\n",
    "        # Pasos intermedios runge kutta 4\n",
    "        k1 = dv1(v10,v20,i00)\n",
    "        k2 = dv2(v10,v20,i00)\n",
    "        k3 = di(v10,v20,i00)\n",
    "        k11 = dv1(v10+(k1*dt/2.),v20+(k2*dt/2.),i00+(k3*dt/2.))\n",
    "        k22 = dv2(v10+(k1*dt/2.),v20+(k2*dt/2.),i00+(k3*dt/2.))\n",
    "        k33 = di(v10+(k1*dt/2.),v20+(k2*dt/2.),i00+(k3*dt/2.))\n",
    "        k111 = dv1(v10+(k11*dt/2.),v20+(k22*dt/2.),i00+(k33*dt/2.))\n",
    "        k222 = dv2(v10+(k11*dt/2.),v20+(k22*dt/2.),i00+(k33*dt/2.))\n",
    "        k333 =  di(v10+(k11*dt/2.),v20+(k22*dt/2.),i00+(k33*dt/2.))\n",
    "        k1111 = dv1(v10+(k111*dt),v20+(k222*dt),i00+(k333*dt))\n",
    "        k2222 = dv2(v10+(k111*dt),v20+(k222*dt),i00+(k333*dt))\n",
    "        k3333 =  di(v10+(k111*dt),v20+(k222*dt),i00+(k333*dt))\n",
    "        #print k1,k2,k3\n",
    "        # Actualiza el vector inicial al siguiente time-step\n",
    "        v10 = v10 + dt*(k1 + 2*k11 + 2*k111 + k1111)/6.\n",
    "        v20 = v20 + dt*(k2 + 2*k22 + 2*k222 + k2222)/6.\n",
    "        i00 = i00 + dt*(k3 + 2*k33 + 2*k333 + k3333)/6.\n",
    "    arr = np.array(arr)\n",
    "    fig = plt.figure(figsize = (10,7))\n",
    "    ax = fig.add_subplot(111)\n",
    "    ax.plot(arr.T[0], arr.T[1])\n",
    "    ax.tick_params(axis='x', labelsize=12)\n",
    "    ax.tick_params(axis='y', labelsize=12)\n",
    "    ax.set_ylabel(r\"$V_2(V)$\", fontsize = 27)\n",
    "    ax.set_xlabel(r\"$V_1(V)$\", fontsize = 27)\n",
    "    ax.set_title(b\"$Simulacion\\ V_1\\ Vs\\ V_2\\ para\\ R=2.05k \\Omega $\", fontsize = 27)\n",
    "    for tick in ax.xaxis.get_major_ticks():\n",
    "                    tick.label.set_fontsize(20) \n",
    "    for tick in ax.yaxis.get_major_ticks():\n",
    "                    tick.label.set_fontsize(20) \n",
    "                    # specify integer or one of preset strings, e.g.\n",
    "                    #tick.label.set_fontsize('x-small') \n",
    "    fig.savefig('simulacion2.jpg')\n",
    "\n",
    "        #arr = np.array(arr)"
   ]
  },
  {
   "cell_type": "code",
   "execution_count": 4,
   "metadata": {
    "collapsed": false
   },
   "outputs": [
    {
     "name": "stdout",
     "output_type": "stream",
     "text": [
      "8e-09 1.03e-07 0.018 -103125.0 -54987.5\n"
     ]
    },
    {
     "ename": "NameError",
     "evalue": "global name 'dv1' is not defined",
     "output_type": "error",
     "traceback": [
      "\u001b[0;31m---------------------------------------------------------------------------\u001b[0m",
      "\u001b[0;31mNameError\u001b[0m                                 Traceback (most recent call last)",
      "\u001b[0;32m<ipython-input-4-617cfd549c0c>\u001b[0m in \u001b[0;36m<module>\u001b[0;34m()\u001b[0m\n\u001b[1;32m     20\u001b[0m \u001b[0;31m#print 1/(15.7*C1)\u001b[0m\u001b[0;34m\u001b[0m\u001b[0;34m\u001b[0m\u001b[0m\n\u001b[1;32m     21\u001b[0m \u001b[0;31m#print 1/(R*C1), 1/(R*C2), (1./L),1/C2\u001b[0m\u001b[0;34m\u001b[0m\u001b[0;34m\u001b[0m\u001b[0m\n\u001b[0;32m---> 22\u001b[0;31m \u001b[0mfunci\u001b[0m\u001b[0;34m(\u001b[0m\u001b[0;36m60000\u001b[0m\u001b[0;34m,\u001b[0m\u001b[0;36m0.000001\u001b[0m\u001b[0;34m)\u001b[0m\u001b[0;34m\u001b[0m\u001b[0m\n\u001b[0m\u001b[1;32m     23\u001b[0m \u001b[0;34m\u001b[0m\u001b[0m\n\u001b[1;32m     24\u001b[0m \u001b[0;32mdef\u001b[0m \u001b[0mef\u001b[0m\u001b[0;34m(\u001b[0m\u001b[0mx\u001b[0m\u001b[0;34m)\u001b[0m\u001b[0;34m:\u001b[0m\u001b[0;34m\u001b[0m\u001b[0m\n",
      "\u001b[0;32m<ipython-input-3-e4528b11b0e9>\u001b[0m in \u001b[0;36mfunci\u001b[0;34m(n, s)\u001b[0m\n\u001b[1;32m     12\u001b[0m         \u001b[0marr\u001b[0m\u001b[0;34m.\u001b[0m\u001b[0mappend\u001b[0m\u001b[0;34m(\u001b[0m\u001b[0;34m[\u001b[0m\u001b[0mv10\u001b[0m\u001b[0;34m,\u001b[0m\u001b[0mv20\u001b[0m\u001b[0;34m,\u001b[0m\u001b[0mi00\u001b[0m\u001b[0;34m]\u001b[0m\u001b[0;34m)\u001b[0m\u001b[0;34m\u001b[0m\u001b[0m\n\u001b[1;32m     13\u001b[0m         \u001b[0;31m# Pasos intermedios runge kutta 4\u001b[0m\u001b[0;34m\u001b[0m\u001b[0;34m\u001b[0m\u001b[0m\n\u001b[0;32m---> 14\u001b[0;31m         \u001b[0mk1\u001b[0m \u001b[0;34m=\u001b[0m \u001b[0mdv1\u001b[0m\u001b[0;34m(\u001b[0m\u001b[0mv10\u001b[0m\u001b[0;34m,\u001b[0m\u001b[0mv20\u001b[0m\u001b[0;34m,\u001b[0m\u001b[0mi00\u001b[0m\u001b[0;34m)\u001b[0m\u001b[0;34m\u001b[0m\u001b[0m\n\u001b[0m\u001b[1;32m     15\u001b[0m         \u001b[0mk2\u001b[0m \u001b[0;34m=\u001b[0m \u001b[0mdv2\u001b[0m\u001b[0;34m(\u001b[0m\u001b[0mv10\u001b[0m\u001b[0;34m,\u001b[0m\u001b[0mv20\u001b[0m\u001b[0;34m,\u001b[0m\u001b[0mi00\u001b[0m\u001b[0;34m)\u001b[0m\u001b[0;34m\u001b[0m\u001b[0m\n\u001b[1;32m     16\u001b[0m         \u001b[0mk3\u001b[0m \u001b[0;34m=\u001b[0m \u001b[0mdi\u001b[0m\u001b[0;34m(\u001b[0m\u001b[0mv10\u001b[0m\u001b[0;34m,\u001b[0m\u001b[0mv20\u001b[0m\u001b[0;34m,\u001b[0m\u001b[0mi00\u001b[0m\u001b[0;34m)\u001b[0m\u001b[0;34m\u001b[0m\u001b[0m\n",
      "\u001b[0;31mNameError\u001b[0m: global name 'dv1' is not defined"
     ]
    }
   ],
   "source": [
    "# Constantes\n",
    "'''\n",
    "R = 1000\n",
    "C1 = 64e-6\n",
    "C2 = 1000e-6\n",
    "L = (35e-6)\n",
    "m0 = -0.114e-2\n",
    "m1 = -0.071e-2\n",
    "E = 1.\n",
    "print 1/(R*C1), 1/(R*C2), 1/L, R*m0, R*m1\n",
    "'''\n",
    "R = 2050.\n",
    "C1 = 8e-9\n",
    "C2 = 103e-9\n",
    "L = 18e-3\n",
    "m0 = -0.825e-3\n",
    "m1 = -0.4399e-3\n",
    "E = 0.99\n",
    "print (C1), (C2), L, m0/C1, m1/C1\n",
    "#print 1/(15.7*C1)\n",
    "#print 1/(R*C1), 1/(R*C2), (1./L),1/C2\n",
    "funci(60000,0.000001)\n",
    "\n",
    "def ef(x):\n",
    "    return m1*x +((m0-m1)/2)*(abs(x+E)-abs(x-E))\n",
    " \n",
    "# Derivada del voltaje de C1\n",
    "def dv1(v1,v2,i):\n",
    "    return ((v2-v1)-R*ef(v1))/(R*C1)\n",
    "# Derivada del voltaje de C2\n",
    "def dv2(v1,v2,i):\n",
    "    return ((v1-v2)+R*i)/(R*C2)\n",
    "# Derivada de la corriente\n",
    "def di(v1,v2,i):\n",
    "    return -v2/(L)"
   ]
  },
  {
   "cell_type": "code",
   "execution_count": 3,
   "metadata": {
    "collapsed": false
   },
   "outputs": [
    {
     "ename": "NameError",
     "evalue": "name 'ef' is not defined",
     "output_type": "error",
     "traceback": [
      "\u001b[1;31m---------------------------------------------------------------------------\u001b[0m\n\u001b[1;31mNameError\u001b[0m                                 Traceback (most recent call last)",
      "\u001b[1;32m<ipython-input-3-3d6580150802>\u001b[0m in \u001b[0;36m<module>\u001b[1;34m()\u001b[0m\n\u001b[0;32m      1\u001b[0m \u001b[1;31m# Verifica la funcion de corriente del circuito de chu\u001b[0m\u001b[1;33m\u001b[0m\u001b[1;33m\u001b[0m\u001b[0m\n\u001b[0;32m      2\u001b[0m \u001b[0mr\u001b[0m \u001b[1;33m=\u001b[0m \u001b[0mlinspace\u001b[0m\u001b[1;33m(\u001b[0m\u001b[1;33m-\u001b[0m\u001b[1;36m10\u001b[0m\u001b[1;33m,\u001b[0m\u001b[1;36m10\u001b[0m\u001b[1;33m,\u001b[0m\u001b[1;36m200\u001b[0m\u001b[1;33m)\u001b[0m\u001b[1;33m\u001b[0m\u001b[0m\n\u001b[1;32m----> 3\u001b[1;33m \u001b[0mplot\u001b[0m\u001b[1;33m(\u001b[0m\u001b[0mr\u001b[0m\u001b[1;33m,\u001b[0m \u001b[0mef\u001b[0m\u001b[1;33m(\u001b[0m\u001b[0mr\u001b[0m\u001b[1;33m)\u001b[0m\u001b[1;33m)\u001b[0m\u001b[1;33m\u001b[0m\u001b[0m\n\u001b[0m\u001b[0;32m      4\u001b[0m \u001b[1;31m#print g(1)\u001b[0m\u001b[1;33m\u001b[0m\u001b[1;33m\u001b[0m\u001b[0m\n",
      "\u001b[1;31mNameError\u001b[0m: name 'ef' is not defined"
     ]
    }
   ],
   "source": [
    "# Verifica la funcion de corriente del circuito de chu\n",
    "r = linspace(-10,10,200)\n",
    "plot(r, ef(r))\n",
    "#print g(1)"
   ]
  },
  {
   "cell_type": "code",
   "execution_count": 60,
   "metadata": {
    "collapsed": false
   },
   "outputs": [],
   "source": []
  },
  {
   "cell_type": "code",
   "execution_count": 20,
   "metadata": {
    "collapsed": false
   },
   "outputs": [
    {
     "name": "stdout",
     "output_type": "stream",
     "text": [
      "1e-08 1e-07 0.018 -77000.0 -42000.0\n"
     ]
    },
    {
     "data": {
      "image/png": "[encoded data removed]",
      "text/plain": [
       "<matplotlib.figure.Figure at 0x7f0aa6766ad0>"
      ]
     },
     "metadata": {},
     "output_type": "display_data"
    }
   ],
   "source": [
    "R = 200.0\n",
    "C1 = 10.0e-9\n",
    "C2 = 100.0e-9\n",
    "L = 18.0e-3\n",
    "m0 = -0.77e-3\n",
    "m1 = -0.42e-3\n",
    "E = 1.\n",
    "print (C1), (C2), L, m0/C1, m1/C1\n",
    "#print 1/(15.7*C1)\n",
    "#print 1/(R*C1), 1/(R*C2), (1./L),1/C2\n",
    "funci(10000,0.000001)"
   ]
  },
  {
   "cell_type": "code",
   "execution_count": 292,
   "metadata": {
    "collapsed": false
   },
   "outputs": [
    {
     "name": "stdout",
     "output_type": "stream",
     "text": [
      "Using matplotlib backend: TkAgg\n",
      "Populating the interactive namespace from numpy and matplotlib\n"
     ]
    },
    {
     "data": {
      "image/png": "[encoded data removed]",
      "text/plain": [
       "<matplotlib.figure.Figure at 0x7f4036bf2b50>"
      ]
     },
     "metadata": {},
     "output_type": "display_data"
    }
   ],
   "source": [
    "\"\"\"\n",
    "A simple example of an animated plot\n",
    "\"\"\"\n",
    "import numpy as np\n",
    "import matplotlib.pyplot as plt\n",
    "import matplotlib.animation as animation\n",
    "%pylab\n",
    "\n",
    "# = plt.figure()\n",
    "#ax = fig.add_axes([0, 0, 1, 1], projection='3d')\n",
    "fig, ax = plt.subplots()\n",
    "ax.set_xlim([-4,4])\n",
    "ax.set_ylim([-0.4,0.4])\n",
    "line, = ax.plot(arr.T[0,0], arr.T[1,0]\n",
    "                ,'-')\n",
    "                #, arr.T[2,0], '-')\n",
    "pt,   = ax.plot(arr.T[0,0], arr.T[1,0]\n",
    "               ,'o')\n",
    "                #, arr.T[2,0], 'o')\n",
    "\n",
    "\n",
    "def animate(j):\n",
    "    i = (100*j)%nsteps\n",
    "    line.set_xdata(arr.T[0][:i])  # update the data\n",
    "    line.set_ydata(arr.T[1][:i])  # update the data\n",
    "    #line.set_3d_properties(arr.T[2][:i])  # update the data\n",
    "    pt.set_xdata(arr.T[0][i])  # update the data\n",
    "    pt.set_ydata(arr.T[1][i])  # update the data\n",
    "    #pt.set_3d_properties(arr.T[2][i])  # update the data\n",
    "\n",
    "    return line,pt\n",
    "\n",
    "#Init only required for blitting to give a clean slate.\n",
    "def init():\n",
    "    line.set_xdata(arr.T[0][0])  # update the data\n",
    "    line.set_ydata(arr.T[1][0])  # update the data\n",
    "    #line.set_3d_properties(arr.T[2][0])  # update the data\n",
    "    pt.set_xdata(arr.T[0][0])  # update the data\n",
    "    pt.set_ydata(arr.T[1][0])  # update the data\n",
    "    #pt.set_3d_properties(arr.T[2][0])  # update the data\n",
    "    return line,pt\n",
    "\n",
    "ani = animation.FuncAnimation(fig, animate,frames = int(nsteps/100.), init_func=init,\n",
    "    interval=0.1, blit=True)\n",
    "plt.show()\n",
    "#ani.save('lorentz_attractor.mp4', fps=15)\n"
   ]
  },
  {
   "cell_type": "code",
   "execution_count": 8,
   "metadata": {
    "collapsed": false
   },
   "outputs": [
    {
     "name": "stdout",
     "output_type": "stream",
     "text": [
      "-2.80057386873e-06\n"
     ]
    }
   ],
   "source": [
    "print arr.T[2,5]"
   ]
  },
  {
   "cell_type": "code",
   "execution_count": 22,
   "metadata": {
    "collapsed": false
   },
   "outputs": [
    {
     "name": "stderr",
     "output_type": "stream",
     "text": [
      "Exception in Tkinter callback\n",
      "Traceback (most recent call last):\n",
      "  File \"/usr/lib/python2.7/lib-tk/Tkinter.py\", line 1489, in __call__\n",
      "    return self.func(*args)\n",
      "  File \"/usr/lib/python2.7/lib-tk/Tkinter.py\", line 536, in callit\n",
      "    func(*args)\n",
      "  File \"/usr/lib/pymodules/python2.7/matplotlib/backends/backend_tkagg.py\", line 141, in _on_timer\n",
      "    TimerBase._on_timer(self)\n",
      "  File \"/usr/lib/pymodules/python2.7/matplotlib/backend_bases.py\", line 1203, in _on_timer\n",
      "    ret = func(*args, **kwargs)\n",
      "  File \"/usr/lib/pymodules/python2.7/matplotlib/animation.py\", line 876, in _step\n",
      "    still_going = Animation._step(self, *args)\n",
      "  File \"/usr/lib/pymodules/python2.7/matplotlib/animation.py\", line 735, in _step\n",
      "    self._draw_next_frame(framedata, self._blit)\n",
      "  File \"/usr/lib/pymodules/python2.7/matplotlib/animation.py\", line 754, in _draw_next_frame\n",
      "    self._draw_frame(framedata)\n",
      "  File \"/usr/lib/pymodules/python2.7/matplotlib/animation.py\", line 1049, in _draw_frame\n",
      "    self._drawn_artists = self._func(framedata, *self._args)\n",
      "  File \"<ipython-input-21-0b1059239a95>\", line 14, in update_lines\n",
      "    pt.set_data(arr.T[0:2, i])\n",
      "IndexError: index 31360 is out of bounds for axis 1 with size 31250\n"
     ]
    }
   ],
   "source": [
    "#arr= array([arr[i] for i in 2*np.arange(0,nsteps/32.,1)])"
   ]
  },
  {
   "cell_type": "code",
   "execution_count": 104,
   "metadata": {
    "collapsed": false
   },
   "outputs": [
    {
     "data": {
      "text/plain": [
       "array([     0,      1,      2, ..., 999997, 999998, 999999])"
      ]
     },
     "execution_count": 104,
     "metadata": {},
     "output_type": "execute_result"
    }
   ],
   "source": [
    "np.arange(0,nsteps,1)"
   ]
  },
  {
   "cell_type": "code",
   "execution_count": 40,
   "metadata": {
    "collapsed": false
   },
   "outputs": [
    {
     "name": "stdout",
     "output_type": "stream",
     "text": [
      "Using matplotlib backend: TkAgg\n",
      "Populating the interactive namespace from numpy and matplotlib\n"
     ]
    }
   ],
   "source": [
    "\"\"\"\n",
    "A simple example of an animated plot... In 3D!\n",
    "\"\"\"\n",
    "import numpy as np\n",
    "import matplotlib.pyplot as plt\n",
    "import mpl_toolkits.mplot3d.axes3d as p3\n",
    "import matplotlib.animation as animation\n",
    "%pylab\n",
    "\n",
    "def update_lines(j) :\n",
    "    i = (620*j)%(nsteps-1)\n",
    "    line.set_data(arr.T[0:2, :i])\n",
    "    line.set_3d_properties(arr.T[2,:i])\n",
    "    pt.set_data(arr.T[0:2, i])\n",
    "    pt.set_3d_properties(arr.T[2,i])\n",
    "    \n",
    "    ax.view_init(30, 0.0007 * i)\n",
    "    return line,pt\n",
    "\n",
    "# Attaching 3D axis to the figure\n",
    "fig = plt.figure()\n",
    "ax = p3.Axes3D(fig)\n",
    "# Creating fifty line objects.\n",
    "# NOTE: Can't pass empty arrays into 3d version of plot()\n",
    "line, = ax.plot(arr.T[0, 0:1], arr.T[1, 0:1], arr.T[2, 0:1])\n",
    "pt, = ax.plot(arr.T[0, 0:1], arr.T[1, 0:1], arr.T[2, 0:1], 'o')\n",
    "\n",
    "\n",
    "# Setting the axes properties\n",
    "ax.set_xlim3d([-3, 3])\n",
    "ax.set_xlabel('X')\n",
    "\n",
    "ax.set_ylim3d([-0.4, 0.4])\n",
    "ax.set_ylabel('Y')\n",
    "ax.view_init(30, 0)\n",
    "\n",
    "ax.set_zlim3d([-4, 4])\n",
    "ax.set_zlabel('Z')\n",
    "\n",
    "ax.set_title('3D Test')\n",
    "\n",
    "# Creating the Animation object\n",
    "line_ani = animation.FuncAnimation(fig, update_lines, frames = int(nsteps/2000),\n",
    "                              interval=10, blit=False)\n",
    "\n",
    "writer = animation.writers['ffmpeg']\n",
    "writer = writer(fps=20, metadata=dict(artist='Me'), bitrate=10800)\n",
    "line_ani.save(u'video.mp4',writer=writer)\n",
    "plt.show()"
   ]
  },
  {
   "cell_type": "code",
   "execution_count": null,
   "metadata": {
    "collapsed": false
   },
   "outputs": [],
   "source": []
  }
 ],
 "metadata": {
  "kernelspec": {
   "display_name": "Python 2",
   "language": "python",
   "name": "python2"
  },
  "language_info": {
   "codemirror_mode": {
    "name": "ipython",
    "version": 2
   },
   "file_extension": ".py",
   "mimetype": "text/x-python",
   "name": "python",
   "nbconvert_exporter": "python",
   "pygments_lexer": "ipython2",
   "version": "2.7.11"
  }
 },
 "nbformat": 4,
 "nbformat_minor": 0
}
